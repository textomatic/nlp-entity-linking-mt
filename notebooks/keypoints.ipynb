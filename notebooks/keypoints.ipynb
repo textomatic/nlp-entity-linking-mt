{
 "cells": [
  {
   "attachments": {},
   "cell_type": "markdown",
   "metadata": {},
   "source": [
    "Import libraries"
   ]
  },
  {
   "cell_type": "code",
   "execution_count": 1,
   "metadata": {
    "vscode": {
     "languageId": "python"
    }
   },
   "outputs": [],
   "source": [
    "import pandas as pd\n",
    "import pathlib\n",
    "from collections import OrderedDict\n",
    "from debater_python_api.api.debater_api import DebaterApi"
   ]
  },
  {
   "attachments": {},
   "cell_type": "markdown",
   "metadata": {},
   "source": [
    "Load dataset as dataframe"
   ]
  },
  {
   "cell_type": "code",
   "execution_count": 2,
   "metadata": {
    "vscode": {
     "languageId": "python"
    }
   },
   "outputs": [],
   "source": [
    "df = pd.read_csv('../data/mtsamples_descriptions_clean.csv')"
   ]
  },
  {
   "attachments": {},
   "cell_type": "markdown",
   "metadata": {},
   "source": [
    "Remove rows with null values"
   ]
  },
  {
   "cell_type": "code",
   "execution_count": 3,
   "metadata": {
    "vscode": {
     "languageId": "python"
    }
   },
   "outputs": [],
   "source": [
    "df = df[~(df.isna().sum(axis=1) > 0)]"
   ]
  },
  {
   "attachments": {},
   "cell_type": "markdown",
   "metadata": {},
   "source": [
    "Convert identifiers to string type"
   ]
  },
  {
   "cell_type": "code",
   "execution_count": 4,
   "metadata": {
    "vscode": {
     "languageId": "python"
    }
   },
   "outputs": [],
   "source": [
    "df['id'] = df['id'].astype('str')\n",
    "df['id_description'] = df['id_description'].astype('str')"
   ]
  },
  {
   "attachments": {},
   "cell_type": "markdown",
   "metadata": {},
   "source": [
    "Store the dataframe as an Ordered Dictionary (for subsequent use with IBM Debater API)"
   ]
  },
  {
   "cell_type": "code",
   "execution_count": 5,
   "metadata": {
    "vscode": {
     "languageId": "python"
    }
   },
   "outputs": [],
   "source": [
    "sentences = df.to_dict(orient=\"records\", into=OrderedDict)"
   ]
  },
  {
   "attachments": {},
   "cell_type": "markdown",
   "metadata": {},
   "source": [
    "Load IBM Debater API key as a variable"
   ]
  },
  {
   "cell_type": "code",
   "execution_count": 6,
   "metadata": {
    "vscode": {
     "languageId": "python"
    }
   },
   "outputs": [],
   "source": [
    "apikey_path = pathlib.Path('../APIkey.txt')\n",
    "api_key = apikey_path.read_text().strip()"
   ]
  },
  {
   "attachments": {},
   "cell_type": "markdown",
   "metadata": {},
   "source": [
    "Initialize Debater API services"
   ]
  },
  {
   "cell_type": "code",
   "execution_count": 7,
   "metadata": {
    "vscode": {
     "languageId": "python"
    }
   },
   "outputs": [],
   "source": [
    "debater_api = DebaterApi(apikey=api_key)\n",
    "arg_quality_client = debater_api.get_argument_quality_client()\n",
    "keypoints_client = debater_api.get_keypoints_client()"
   ]
  },
  {
   "attachments": {},
   "cell_type": "markdown",
   "metadata": {},
   "source": [
    "Set a topic, then use the Argument Quality service to select the top 1000 sentences from the dataset that are most closely related to the topic"
   ]
  },
  {
   "cell_type": "code",
   "execution_count": 8,
   "metadata": {
    "vscode": {
     "languageId": "python"
    }
   },
   "outputs": [
    {
     "name": "stderr",
     "output_type": "stream",
     "text": [
      "ArgumentQualityClient: 100%|██████████| 3245/3245 [00:56<00:00, 56.97it/s]"
     ]
    },
    {
     "name": "stderr",
     "output_type": "stream",
     "text": [
      "ArgumentQualityClient: 100%|██████████| 3245/3245 [01:10<00:00, 56.97it/s]"
     ]
    }
   ],
   "source": [
    "# Random topic\n",
    "topic = \"The patient is a 30-year-old who was admitted with symptoms including obstructions, failures, and pain that started four days ago.\"\n",
    "# Create list of dictionaries for Argument Quality API call\n",
    "sentences_topic = [{ \"sentence\": sentence[\"text\"], \"topic\": topic} for sentence in sentences]\n",
    "# Store results in scores\n",
    "scores = arg_quality_client.run(sentences_topic)\n",
    "# Sort sentences in descending order based on score\n",
    "sentences_sorted = [s for s, _ in sorted(zip(sentences, scores), key=lambda x: x[1], reverse=True)]\n",
    "# Store top 1000 sentences in separate variable\n",
    "top_k = 1000\n",
    "sentences_top_1000_aq = sentences_sorted[:top_k]"
   ]
  },
  {
   "attachments": {},
   "cell_type": "markdown",
   "metadata": {},
   "source": [
    "Configure parameters for Key Point Analysis service and prepare data in list form"
   ]
  },
  {
   "cell_type": "code",
   "execution_count": 9,
   "metadata": {
    "vscode": {
     "languageId": "python"
    }
   },
   "outputs": [],
   "source": [
    "# Specify domain for KPA\n",
    "domain = \"medical_demo\"\n",
    "# Configure parameters\n",
    "run_params = {\"mapping_threshold\": 0.95, \"n_top_kps\": 20}\n",
    "# Store all text in a list\n",
    "sentences_texts = [sentence[\"text\"] for sentence in sentences_top_1000_aq]\n",
    "# Store all id in a list\n",
    "sentences_ids = [sentence[\"id\"] for sentence in sentences_top_1000_aq]"
   ]
  },
  {
   "attachments": {},
   "cell_type": "markdown",
   "metadata": {},
   "source": [
    "Clear the domain first prior to uploading data to the Key Point Analysis service"
   ]
  },
  {
   "cell_type": "code",
   "execution_count": 10,
   "metadata": {
    "vscode": {
     "languageId": "python"
    }
   },
   "outputs": [
    {
     "name": "stderr",
     "output_type": "stream",
     "text": [
      "ERROR:root:There is a problem with the request (422): user: 8c251e doesn't have domain: medical_demo\n"
     ]
    }
   ],
   "source": [
    "# Clear domain on KPA service\n",
    "try:\n",
    "    keypoints_client.delete_domain_cannot_be_undone(domain)\n",
    "except Exception:\n",
    "    pass\n",
    "# Upload data to KPA service\n",
    "keypoints_client.upload_comments(domain=domain, comments_ids=sentences_ids, comments_texts=sentences_texts, dont_split=True)\n",
    "keypoints_client.wait_till_all_comments_are_processed(domain=domain)"
   ]
  },
  {
   "attachments": {},
   "cell_type": "markdown",
   "metadata": {},
   "source": [
    "Run the KPA job and get results"
   ]
  },
  {
   "cell_type": "code",
   "execution_count": 11,
   "metadata": {
    "vscode": {
     "languageId": "python"
    }
   },
   "outputs": [
    {
     "data": {
      "text/plain": [
       "'63a2a582d2ae1427f1466607'"
      ]
     },
     "execution_count": 11,
     "metadata": {},
     "output_type": "execute_result"
    }
   ],
   "source": [
    "future = keypoints_client.start_kp_analysis_job(domain=domain, comments_ids=sentences_ids, run_params=run_params)\n",
    "kpa_result = future.get_result(high_verbosity=False, polling_timout_secs=5)\n",
    "future.get_job_id()"
   ]
  },
  {
   "attachments": {},
   "cell_type": "markdown",
   "metadata": {},
   "source": [
    "Inspect one of the KPA results"
   ]
  },
  {
   "cell_type": "code",
   "execution_count": 22,
   "metadata": {
    "vscode": {
     "languageId": "python"
    }
   },
   "outputs": [
    {
     "name": "stdout",
     "output_type": "stream",
     "text": [
      "{'domain': 'medical_demo', 'comment_id': '2487', 'sentence_id': 0, 'sents_in_comment': 1, 'span_start': 0, 'span_end': 21, 'num_tokens': 3, 'argument_quality': 0.43169254064559937, 'sentence_text': 'Worrisome skin lesion', 'score': 1.0, 'kp_quality': 0.994644045829773}\n"
     ]
    }
   ],
   "source": [
    "print(kpa_result[\"keypoint_matchings\"][1][\"matching\"][0])"
   ]
  },
  {
   "attachments": {},
   "cell_type": "markdown",
   "metadata": {},
   "source": [
    "Store the KPA results in a dataframe"
   ]
  },
  {
   "cell_type": "code",
   "execution_count": 23,
   "metadata": {
    "vscode": {
     "languageId": "python"
    }
   },
   "outputs": [],
   "source": [
    "# Initialize a list for storing the keypoints\n",
    "matchings_rows = []\n",
    "# Loop through all keypoint matchings and store in the list\n",
    "for keypoint_matching in kpa_result[\"keypoint_matchings\"]:\n",
    "    kp = keypoint_matching[\"keypoint\"]\n",
    "    for match in keypoint_matching[\"matching\"]:\n",
    "        match_row = [\n",
    "            kp,\n",
    "            match[\"sentence_text\"],\n",
    "            match[\"score\"],\n",
    "            match[\"comment_id\"],\n",
    "            match[\"sentence_id\"],\n",
    "            match[\"sents_in_comment\"],\n",
    "            match[\"span_start\"],\n",
    "            match[\"span_end\"],\n",
    "            match[\"num_tokens\"],\n",
    "            match[\"argument_quality\"],\n",
    "            match[\"kp_quality\"]\n",
    "        ]\n",
    "        matchings_rows.append(match_row)\n",
    "# Define column headers for dataframe\n",
    "cols = [\n",
    "    \"kp\",\n",
    "    \"sentence_text\",\n",
    "    \"match_score\",\n",
    "    \"comment_id\",\n",
    "    \"sentence_id\",\n",
    "    \"sents_in_comment\",\n",
    "    \"span_start\",\n",
    "    \"span_end\",\n",
    "    \"num_tokens\",\n",
    "    \"argument_quality\",\n",
    "    \"keypoint_quality\"\n",
    "]\n",
    "# Store the list as dataframe\n",
    "df_match = pd.DataFrame(matchings_rows, columns=cols)"
   ]
  },
  {
   "attachments": {},
   "cell_type": "markdown",
   "metadata": {},
   "source": [
    "View sample of match dataframe"
   ]
  },
  {
   "cell_type": "code",
   "execution_count": 24,
   "metadata": {
    "vscode": {
     "languageId": "python"
    }
   },
   "outputs": [
    {
     "data": {
      "text/html": [
       "<div>\n",
       "<style scoped>\n",
       "    .dataframe tbody tr th:only-of-type {\n",
       "        vertical-align: middle;\n",
       "    }\n",
       "\n",
       "    .dataframe tbody tr th {\n",
       "        vertical-align: top;\n",
       "    }\n",
       "\n",
       "    .dataframe thead th {\n",
       "        text-align: right;\n",
       "    }\n",
       "</style>\n",
       "<table border=\"1\" class=\"dataframe\">\n",
       "  <thead>\n",
       "    <tr style=\"text-align: right;\">\n",
       "      <th></th>\n",
       "      <th>kp</th>\n",
       "      <th>sentence_text</th>\n",
       "      <th>match_score</th>\n",
       "      <th>comment_id</th>\n",
       "      <th>sentence_id</th>\n",
       "      <th>sents_in_comment</th>\n",
       "      <th>span_start</th>\n",
       "      <th>span_end</th>\n",
       "      <th>num_tokens</th>\n",
       "      <th>argument_quality</th>\n",
       "      <th>keypoint_quality</th>\n",
       "    </tr>\n",
       "  </thead>\n",
       "  <tbody>\n",
       "    <tr>\n",
       "      <th>936</th>\n",
       "      <td>Spontaneous vaginal delivery</td>\n",
       "      <td>Delivery was via spontaneous vaginal delivery</td>\n",
       "      <td>0.999719</td>\n",
       "      <td>323</td>\n",
       "      <td>0</td>\n",
       "      <td>1</td>\n",
       "      <td>0</td>\n",
       "      <td>45</td>\n",
       "      <td>6</td>\n",
       "      <td>0.433695</td>\n",
       "      <td>0.001563</td>\n",
       "    </tr>\n",
       "    <tr>\n",
       "      <th>937</th>\n",
       "      <td>Spontaneous vaginal delivery</td>\n",
       "      <td>The patient progressed to a normal spontaneous...</td>\n",
       "      <td>0.999710</td>\n",
       "      <td>322</td>\n",
       "      <td>0</td>\n",
       "      <td>1</td>\n",
       "      <td>0</td>\n",
       "      <td>88</td>\n",
       "      <td>13</td>\n",
       "      <td>0.623576</td>\n",
       "      <td>0.000000</td>\n",
       "    </tr>\n",
       "    <tr>\n",
       "      <th>938</th>\n",
       "      <td>Spontaneous vaginal delivery</td>\n",
       "      <td>She was admitted here and labor was confirmed ...</td>\n",
       "      <td>0.969670</td>\n",
       "      <td>336</td>\n",
       "      <td>0</td>\n",
       "      <td>1</td>\n",
       "      <td>0</td>\n",
       "      <td>72</td>\n",
       "      <td>12</td>\n",
       "      <td>0.488468</td>\n",
       "      <td>0.000391</td>\n",
       "    </tr>\n",
       "    <tr>\n",
       "      <th>939</th>\n",
       "      <td>Obsessive compulsive disorder.</td>\n",
       "      <td>Obsessive compulsive disorder.</td>\n",
       "      <td>1.000000</td>\n",
       "      <td>3002</td>\n",
       "      <td>0</td>\n",
       "      <td>1</td>\n",
       "      <td>0</td>\n",
       "      <td>30</td>\n",
       "      <td>3</td>\n",
       "      <td>0.547027</td>\n",
       "      <td>0.998403</td>\n",
       "    </tr>\n",
       "    <tr>\n",
       "      <th>940</th>\n",
       "      <td>Obsessive compulsive disorder.</td>\n",
       "      <td>Acute episode of agitation</td>\n",
       "      <td>0.954987</td>\n",
       "      <td>627</td>\n",
       "      <td>0</td>\n",
       "      <td>1</td>\n",
       "      <td>0</td>\n",
       "      <td>26</td>\n",
       "      <td>4</td>\n",
       "      <td>0.428283</td>\n",
       "      <td>0.940409</td>\n",
       "    </tr>\n",
       "  </tbody>\n",
       "</table>\n",
       "</div>"
      ],
      "text/plain": [
       "                                 kp  \\\n",
       "936    Spontaneous vaginal delivery   \n",
       "937    Spontaneous vaginal delivery   \n",
       "938    Spontaneous vaginal delivery   \n",
       "939  Obsessive compulsive disorder.   \n",
       "940  Obsessive compulsive disorder.   \n",
       "\n",
       "                                         sentence_text  match_score  \\\n",
       "936      Delivery was via spontaneous vaginal delivery     0.999719   \n",
       "937  The patient progressed to a normal spontaneous...     0.999710   \n",
       "938  She was admitted here and labor was confirmed ...     0.969670   \n",
       "939                     Obsessive compulsive disorder.     1.000000   \n",
       "940                         Acute episode of agitation     0.954987   \n",
       "\n",
       "    comment_id  sentence_id  sents_in_comment  span_start  span_end  \\\n",
       "936        323            0                 1           0        45   \n",
       "937        322            0                 1           0        88   \n",
       "938        336            0                 1           0        72   \n",
       "939       3002            0                 1           0        30   \n",
       "940        627            0                 1           0        26   \n",
       "\n",
       "     num_tokens  argument_quality  keypoint_quality  \n",
       "936           6          0.433695          0.001563  \n",
       "937          13          0.623576          0.000000  \n",
       "938          12          0.488468          0.000391  \n",
       "939           3          0.547027          0.998403  \n",
       "940           4          0.428283          0.940409  "
      ]
     },
     "execution_count": 24,
     "metadata": {},
     "output_type": "execute_result"
    }
   ],
   "source": [
    "df_match.tail()"
   ]
  },
  {
   "attachments": {},
   "cell_type": "markdown",
   "metadata": {},
   "source": [
    "Merge match dataframe with original dataframe on identifiers and save resulting dataframe as CSV"
   ]
  },
  {
   "cell_type": "code",
   "execution_count": 25,
   "metadata": {
    "vscode": {
     "languageId": "python"
    }
   },
   "outputs": [],
   "source": [
    "df_merge = pd.merge(left=df_match, right=df[[\"id\", \"id_description\", \"medical_specialty_new\"]], left_on = \"comment_id\", right_on = \"id\", validate = \"one_to_one\")\n",
    "df_merge.to_csv(\"../data/df_merge.csv\", index=False)"
   ]
  }
 ],
 "metadata": {
  "kernelspec": {
   "display_name": "Python 3",
   "language": "python",
   "name": "python3"
  },
  "orig_nbformat": 4,
  "vscode": {
   "interpreter": {
    "hash": "31f2aee4e71d21fbe5cf8b01ff0e069b9275f58929596ceb00d14d90e3e16cd6"
   }
  }
 },
 "nbformat": 4,
 "nbformat_minor": 2
}
